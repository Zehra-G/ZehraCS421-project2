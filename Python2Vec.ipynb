{
 "cells": [
  {
   "cell_type": "markdown",
   "id": "ec06225f",
   "metadata": {},
   "source": [
    "## CS421 Project 2 \n",
    "### Zehra Gundogdu\n",
    "### Prof. Naser Al Madi\n",
    "### 2/22/23\n",
    "### Python2Vec.ipynb\n"
   ]
  },
  {
   "cell_type": "code",
   "execution_count": 112,
   "id": "aabeabc4",
   "metadata": {},
   "outputs": [],
   "source": [
    "import numpy as np\n",
    "import pandas as pd"
   ]
  },
  {
   "cell_type": "code",
   "execution_count": 114,
   "id": "296f719c",
   "metadata": {},
   "outputs": [
    {
     "name": "stdout",
     "output_type": "stream",
     "text": [
      "Requirement already satisfied: gensim in /Library/Frameworks/Python.framework/Versions/3.8/lib/python3.8/site-packages (4.3.0)\n",
      "Requirement already satisfied: FuzzyTM>=0.4.0 in /Library/Frameworks/Python.framework/Versions/3.8/lib/python3.8/site-packages (from gensim) (2.0.5)\n",
      "Requirement already satisfied: scipy>=1.7.0 in /Library/Frameworks/Python.framework/Versions/3.8/lib/python3.8/site-packages (from gensim) (1.10.0)\n",
      "Requirement already satisfied: numpy>=1.18.5 in /Library/Frameworks/Python.framework/Versions/3.8/lib/python3.8/site-packages (from gensim) (1.24.2)\n",
      "Requirement already satisfied: smart-open>=1.8.1 in /Library/Frameworks/Python.framework/Versions/3.8/lib/python3.8/site-packages (from gensim) (6.3.0)\n",
      "Requirement already satisfied: pyfume in /Library/Frameworks/Python.framework/Versions/3.8/lib/python3.8/site-packages (from FuzzyTM>=0.4.0->gensim) (0.2.25)\n",
      "Requirement already satisfied: pandas in /Library/Frameworks/Python.framework/Versions/3.8/lib/python3.8/site-packages (from FuzzyTM>=0.4.0->gensim) (1.3.4)\n",
      "Requirement already satisfied: pytz>=2017.3 in /Library/Frameworks/Python.framework/Versions/3.8/lib/python3.8/site-packages (from pandas->FuzzyTM>=0.4.0->gensim) (2021.3)\n",
      "Requirement already satisfied: python-dateutil>=2.7.3 in /Library/Frameworks/Python.framework/Versions/3.8/lib/python3.8/site-packages (from pandas->FuzzyTM>=0.4.0->gensim) (2.8.2)\n",
      "Requirement already satisfied: fst-pso in /Library/Frameworks/Python.framework/Versions/3.8/lib/python3.8/site-packages (from pyfume->FuzzyTM>=0.4.0->gensim) (1.8.1)\n",
      "Requirement already satisfied: simpful in /Library/Frameworks/Python.framework/Versions/3.8/lib/python3.8/site-packages (from pyfume->FuzzyTM>=0.4.0->gensim) (2.10.0)\n",
      "Requirement already satisfied: six>=1.5 in /Library/Frameworks/Python.framework/Versions/3.8/lib/python3.8/site-packages (from python-dateutil>=2.7.3->pandas->FuzzyTM>=0.4.0->gensim) (1.16.0)\n",
      "Requirement already satisfied: miniful in /Library/Frameworks/Python.framework/Versions/3.8/lib/python3.8/site-packages (from fst-pso->pyfume->FuzzyTM>=0.4.0->gensim) (0.0.6)\n",
      "Requirement already satisfied: requests in /Library/Frameworks/Python.framework/Versions/3.8/lib/python3.8/site-packages (from simpful->pyfume->FuzzyTM>=0.4.0->gensim) (2.26.0)\n",
      "Requirement already satisfied: charset-normalizer~=2.0.0 in /Library/Frameworks/Python.framework/Versions/3.8/lib/python3.8/site-packages (from requests->simpful->pyfume->FuzzyTM>=0.4.0->gensim) (2.0.9)\n",
      "Requirement already satisfied: urllib3<1.27,>=1.21.1 in /Library/Frameworks/Python.framework/Versions/3.8/lib/python3.8/site-packages (from requests->simpful->pyfume->FuzzyTM>=0.4.0->gensim) (1.26.7)\n",
      "Requirement already satisfied: certifi>=2017.4.17 in /Library/Frameworks/Python.framework/Versions/3.8/lib/python3.8/site-packages (from requests->simpful->pyfume->FuzzyTM>=0.4.0->gensim) (2021.10.8)\n",
      "Requirement already satisfied: idna<4,>=2.5 in /Library/Frameworks/Python.framework/Versions/3.8/lib/python3.8/site-packages (from requests->simpful->pyfume->FuzzyTM>=0.4.0->gensim) (3.3)\n",
      "\n",
      "\u001b[1m[\u001b[0m\u001b[34;49mnotice\u001b[0m\u001b[1;39;49m]\u001b[0m\u001b[39;49m A new release of pip is available: \u001b[0m\u001b[31;49m23.0\u001b[0m\u001b[39;49m -> \u001b[0m\u001b[32;49m23.0.1\u001b[0m\n",
      "\u001b[1m[\u001b[0m\u001b[34;49mnotice\u001b[0m\u001b[1;39;49m]\u001b[0m\u001b[39;49m To update, run: \u001b[0m\u001b[32;49mpip install --upgrade pip\u001b[0m\n"
     ]
    }
   ],
   "source": [
    "!pip install gensim"
   ]
  },
  {
   "cell_type": "code",
   "execution_count": 116,
   "id": "b9154a1f",
   "metadata": {},
   "outputs": [],
   "source": [
    "import os\n",
    "import gensim"
   ]
  },
  {
   "cell_type": "code",
   "execution_count": 118,
   "id": "acb46de1",
   "metadata": {},
   "outputs": [
    {
     "name": "stdout",
     "output_type": "stream",
     "text": [
      "Number of lines: 688844\n",
      "Number of tokens: 2235057\n"
     ]
    }
   ],
   "source": [
    "import string \n",
    "\n",
    "# Count the number of lines and tokens in the resulting file\n",
    "num_lines = 0\n",
    "num_tokens = 0\n",
    "tokenlist = []\n",
    "\n",
    "with open(\"python_files2.txt\", \"r\") as f:\n",
    "    for line in f:\n",
    "        # Count the number of lines\n",
    "        num_lines += 1\n",
    "\n",
    "        # Tokenize the line by lowercasing everything and splitting on all whitespace and punctuation characters\n",
    "        tokens = line.translate(str.maketrans(\"\", \"\", string.punctuation)).lower().split()\n",
    "        tokenlist.append(tokens)\n",
    "        num_tokens += len(tokens)\n",
    "        \n",
    "print(f\"Number of lines: {num_lines}\")\n",
    "print(f\"Number of tokens: {num_tokens}\")\n"
   ]
  },
  {
   "cell_type": "code",
   "execution_count": 119,
   "id": "ef4c0c58",
   "metadata": {},
   "outputs": [
    {
     "name": "stdout",
     "output_type": "stream",
     "text": [
      "Requirement already satisfied: nltk in /Library/Frameworks/Python.framework/Versions/3.8/lib/python3.8/site-packages (3.8.1)\n",
      "Requirement already satisfied: regex>=2021.8.3 in /Library/Frameworks/Python.framework/Versions/3.8/lib/python3.8/site-packages (from nltk) (2022.10.31)\n",
      "Requirement already satisfied: click in /Library/Frameworks/Python.framework/Versions/3.8/lib/python3.8/site-packages (from nltk) (8.1.3)\n",
      "Requirement already satisfied: tqdm in /Library/Frameworks/Python.framework/Versions/3.8/lib/python3.8/site-packages (from nltk) (4.64.1)\n",
      "Requirement already satisfied: joblib in /Library/Frameworks/Python.framework/Versions/3.8/lib/python3.8/site-packages (from nltk) (1.2.0)\n",
      "\n",
      "\u001b[1m[\u001b[0m\u001b[34;49mnotice\u001b[0m\u001b[1;39;49m]\u001b[0m\u001b[39;49m A new release of pip is available: \u001b[0m\u001b[31;49m23.0\u001b[0m\u001b[39;49m -> \u001b[0m\u001b[32;49m23.0.1\u001b[0m\n",
      "\u001b[1m[\u001b[0m\u001b[34;49mnotice\u001b[0m\u001b[1;39;49m]\u001b[0m\u001b[39;49m To update, run: \u001b[0m\u001b[32;49mpip install --upgrade pip\u001b[0m\n"
     ]
    }
   ],
   "source": [
    "!pip install nltk"
   ]
  },
  {
   "cell_type": "code",
   "execution_count": 120,
   "id": "5f8bce43",
   "metadata": {},
   "outputs": [
    {
     "data": {
      "text/plain": [
       "['usrbinenv', 'python']"
      ]
     },
     "execution_count": 120,
     "metadata": {},
     "output_type": "execute_result"
    }
   ],
   "source": [
    "#testing the tokenlist\n",
    "tokenlist[0]"
   ]
  },
  {
   "cell_type": "code",
   "execution_count": 122,
   "id": "2de4b742",
   "metadata": {},
   "outputs": [],
   "source": [
    "model = gensim.models.Word2Vec(\n",
    "    window=10,\n",
    "    min_count=2\n",
    ")"
   ]
  },
  {
   "cell_type": "code",
   "execution_count": 124,
   "id": "574a17fc",
   "metadata": {},
   "outputs": [],
   "source": [
    "model.build_vocab(tokenlist)"
   ]
  },
  {
   "cell_type": "code",
   "execution_count": 125,
   "id": "647109ae",
   "metadata": {},
   "outputs": [
    {
     "data": {
      "text/plain": [
       "(8635265, 11175285)"
      ]
     },
     "execution_count": 125,
     "metadata": {},
     "output_type": "execute_result"
    }
   ],
   "source": [
    "model.train(tokenlist, total_examples=model.corpus_count, epochs=model.epochs)"
   ]
  },
  {
   "cell_type": "code",
   "execution_count": 126,
   "id": "056462c0",
   "metadata": {},
   "outputs": [
    {
     "data": {
      "text/plain": [
       "[('when', 0.7607735991477966),\n",
       " ('elif', 0.7405397295951843),\n",
       " ('otherwise', 0.7076157331466675),\n",
       " ('while', 0.6975282430648804),\n",
       " ('unless', 0.6810064315795898),\n",
       " ('none', 0.6753703355789185),\n",
       " ('whether', 0.6442051529884338),\n",
       " ('either', 0.6409463882446289),\n",
       " ('ie', 0.6405876874923706),\n",
       " ('but', 0.6397658586502075)]"
      ]
     },
     "execution_count": 126,
     "metadata": {},
     "output_type": "execute_result"
    }
   ],
   "source": [
    "model.wv.most_similar('if')"
   ]
  },
  {
   "cell_type": "code",
   "execution_count": 127,
   "id": "ae0a599e",
   "metadata": {},
   "outputs": [
    {
     "data": {
      "text/plain": [
       "'for'"
      ]
     },
     "execution_count": 127,
     "metadata": {},
     "output_type": "execute_result"
    }
   ],
   "source": [
    "model.wv.doesnt_match(['if','else', 'elif', 'for'])"
   ]
  },
  {
   "cell_type": "code",
   "execution_count": 128,
   "id": "ea5295c8",
   "metadata": {},
   "outputs": [
    {
     "data": {
      "text/plain": [
       "'range'"
      ]
     },
     "execution_count": 128,
     "metadata": {},
     "output_type": "execute_result"
    }
   ],
   "source": [
    "model.wv.doesnt_match(['string', 'int', 'range', 'float'])"
   ]
  },
  {
   "cell_type": "code",
   "execution_count": 129,
   "id": "cdfcee6b",
   "metadata": {},
   "outputs": [
    {
     "data": {
      "text/plain": [
       "array([ 5.27768254e-01,  1.35423446e+00,  5.55639684e-01,  2.72792066e-03,\n",
       "        4.53296825e-02, -4.37786460e-01,  1.40463459e+00, -8.74211013e-01,\n",
       "        2.26154193e-01,  3.90471905e-01,  2.43153048e+00,  1.36708522e+00,\n",
       "       -1.11949825e+00,  1.61422706e+00,  7.30612457e-01, -2.51530707e-01,\n",
       "       -7.89610386e-01, -4.97681201e-01,  9.68379080e-01, -3.34567189e-01,\n",
       "       -4.54653710e-01, -1.54897034e+00,  1.62954293e-02,  1.70973271e-01,\n",
       "       -2.59678453e-01,  4.81631666e-01, -3.81865412e-01,  8.09232175e-01,\n",
       "       -1.44143090e-01, -4.85257894e-01,  6.70761466e-01,  4.02916491e-01,\n",
       "       -1.46377635e+00,  1.08341646e+00,  2.53791904e+00, -3.45800757e-01,\n",
       "       -6.00541711e-01,  5.63172817e-01,  4.09007639e-01,  1.82473922e+00,\n",
       "       -8.54028046e-01,  6.69040143e-01,  2.26865554e+00,  1.12066960e+00,\n",
       "        1.51417518e+00,  1.59897730e-01,  2.68534005e-01, -9.77519989e-01,\n",
       "       -3.33807737e-01,  1.36494935e-01,  5.92979789e-01,  1.94325075e-01,\n",
       "       -9.89712417e-01,  1.19472563e+00, -2.88569212e-01, -4.80435371e-01,\n",
       "        8.17967653e-02,  1.54188561e+00, -1.16481793e+00, -2.62752116e-01,\n",
       "        1.02694938e-02,  2.89612436e+00, -2.61642599e+00,  1.28953528e+00,\n",
       "        8.32626224e-01, -6.08565688e-01, -1.02337968e+00,  2.50358671e-01,\n",
       "        1.48723388e+00, -9.13527369e-01, -2.95838892e-01, -1.46362329e+00,\n",
       "        4.43034321e-01, -1.53990313e-01, -4.47534710e-01,  6.30682260e-02,\n",
       "        4.60702702e-02, -1.12255061e+00,  4.83809054e-01, -1.36162972e+00,\n",
       "       -6.80511653e-01, -1.20784640e+00,  1.11263245e-01,  5.76188028e-01,\n",
       "        3.75248194e-01,  2.21498892e-01, -5.78629494e-01,  3.32824379e-01,\n",
       "       -3.32329094e-01,  1.38421130e+00, -2.35513791e-01,  4.99957293e-01,\n",
       "       -9.23959732e-01,  8.16660345e-01, -1.18657351e+00,  1.09033990e+00,\n",
       "        6.87869489e-01,  1.73316136e-01, -8.37920904e-01,  9.04133320e-01],\n",
       "      dtype=float32)"
      ]
     },
     "execution_count": 129,
     "metadata": {},
     "output_type": "execute_result"
    }
   ],
   "source": [
    "\n",
    "model.wv['return']"
   ]
  },
  {
   "cell_type": "code",
   "execution_count": 135,
   "id": "fb42cc2c",
   "metadata": {},
   "outputs": [
    {
     "data": {
      "text/plain": [
       "0.3328248"
      ]
     },
     "execution_count": 135,
     "metadata": {},
     "output_type": "execute_result"
    }
   ],
   "source": [
    "model.wv.similarity('skip','return')"
   ]
  },
  {
   "cell_type": "code",
   "execution_count": 134,
   "id": "a0e9cb17",
   "metadata": {},
   "outputs": [
    {
     "data": {
      "text/plain": [
       "0.9399759"
      ]
     },
     "execution_count": 134,
     "metadata": {},
     "output_type": "execute_result"
    }
   ],
   "source": [
    "model.wv.similarity('true','false')"
   ]
  },
  {
   "cell_type": "code",
   "execution_count": 141,
   "id": "d9015b82",
   "metadata": {},
   "outputs": [
    {
     "data": {
      "text/plain": [
       "0.21986291"
      ]
     },
     "execution_count": 141,
     "metadata": {},
     "output_type": "execute_result"
    }
   ],
   "source": [
    "model.wv.similarity('import', 'as')"
   ]
  },
  {
   "cell_type": "code",
   "execution_count": 142,
   "id": "745207d9",
   "metadata": {},
   "outputs": [
    {
     "data": {
      "text/plain": [
       "[('loop', 0.9650209546089172),\n",
       " ('memory', 0.8317834734916687),\n",
       " ('manually', 0.7980409264564514),\n",
       " ('after', 0.7961838841438293),\n",
       " ('once', 0.7949670553207397),\n",
       " ('previous', 0.7940847873687744),\n",
       " ('local', 0.7902124524116516),\n",
       " ('possibly', 0.7845051288604736),\n",
       " ('ambiguity', 0.78400057554245),\n",
       " ('being', 0.7839842438697815)]"
      ]
     },
     "execution_count": 142,
     "metadata": {},
     "output_type": "execute_result"
    }
   ],
   "source": [
    "model.wv.most_similar(model.wv['loop'] - model.wv['repeat'] )"
   ]
  },
  {
   "cell_type": "code",
   "execution_count": null,
   "id": "3348ff1a",
   "metadata": {},
   "outputs": [],
   "source": []
  }
 ],
 "metadata": {
  "kernelspec": {
   "display_name": "Python 3 (ipykernel)",
   "language": "python",
   "name": "python3"
  },
  "language_info": {
   "codemirror_mode": {
    "name": "ipython",
    "version": 3
   },
   "file_extension": ".py",
   "mimetype": "text/x-python",
   "name": "python",
   "nbconvert_exporter": "python",
   "pygments_lexer": "ipython3",
   "version": "3.8.0"
  }
 },
 "nbformat": 4,
 "nbformat_minor": 5
}
